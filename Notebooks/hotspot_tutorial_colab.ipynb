{
  "nbformat": 4,
  "nbformat_minor": 0,
  "metadata": {
    "kernelspec": {
      "name": "python3",
      "display_name": "Python 3"
    },
    "language_info": {
      "codemirror_mode": {
        "name": "ipython",
        "version": 3
      },
      "file_extension": ".py",
      "mimetype": "text/x-python",
      "name": "python",
      "nbconvert_exporter": "python",
      "pygments_lexer": "ipython3",
      "version": "3.7.3"
    },
    "colab": {
      "name": "Ex10-1-Taxi-Hotspot-prediction-Simple DNN Model-Refined.ipynb",
      "provenance": []
    },
    "accelerator": "GPU"
  },
  "cells": [
    {
      "cell_type": "code",
      "metadata": {
        "id": "s_sEnWLXQoQy",
        "colab_type": "code",
        "colab": {}
      },
      "source": [
        "import numpy as np\n",
        "import pandas as pd\n",
        "import matplotlib.pyplot as plt\n",
        "%matplotlib inline"
      ],
      "execution_count": 0,
      "outputs": []
    },
    {
      "cell_type": "code",
      "metadata": {
        "id": "c__suSFCQoQ5",
        "colab_type": "code",
        "colab": {}
      },
      "source": [
        "#Read training data\n",
        "df_train = pd.read_csv('train_hire_stats_719.csv')\n",
        "df_train.shape"
      ],
      "execution_count": 0,
      "outputs": []
    },
    {
      "cell_type": "code",
      "metadata": {
        "id": "d9A710-NQoQ8",
        "colab_type": "code",
        "colab": {}
      },
      "source": [
        "#Check weekday & workday\n",
        "#holidays連假的平常日\n",
        "#workdays連假的補班日\n",
        "#malfunction\n",
        "holidays= {'2016-02-08', '2016-02-09', '2016-02-10', '2016-02-11', '2016-02-12','2016-02-29', '2016-04-04', '2016-04-05', '2016-06-09', '2016-06-10', \n",
        "'2016-09-15', '2016-09-16', '2016-10-10', '2017-01-02', '2017-01-27', '2017-01-30', '2017-01-31', '2017-02-01','2017-02-27', '2017-02-28'}\n",
        "makeupworkdays = {'2016-06-04', '2016-09-10', '2017-02-18'}\n",
        "malfunctiondays = {'2016-02-05', '2016-02-16', '2016-03-06', '2016-05-2', '2016-07-08', '2016-08-12', '2016-08-15', '2016-09-27', '2016-09-28'}\n",
        "#malfunctiondays = {'2016-02-05', '2016-02-16'}"
      ],
      "execution_count": 0,
      "outputs": []
    },
    {
      "cell_type": "code",
      "metadata": {
        "id": "HyApVdaoQoQ-",
        "colab_type": "code",
        "colab": {}
      },
      "source": [
        "len(df_train)"
      ],
      "execution_count": 0,
      "outputs": []
    },
    {
      "cell_type": "code",
      "metadata": {
        "id": "VvuNPBX8QoRA",
        "colab_type": "code",
        "colab": {}
      },
      "source": [
        "df_train.head()"
      ],
      "execution_count": 0,
      "outputs": []
    },
    {
      "cell_type": "code",
      "metadata": {
        "id": "T_g6semNQoRC",
        "colab_type": "code",
        "colab": {}
      },
      "source": [
        "#Declare weekday & workday\n",
        "isworkday = np.ones((len(df_train),), dtype=int)\n",
        "weekday = np.ones((len(df_train),), dtype=int)\n",
        "malday = np.zeros((len(df_train),), dtype=int)"
      ],
      "execution_count": 0,
      "outputs": []
    },
    {
      "cell_type": "code",
      "metadata": {
        "id": "3CwRY6TcQoRG",
        "colab_type": "code",
        "colab": {}
      },
      "source": [
        "#Compute weekday & workday\n",
        "#weekday()\n",
        "#0 == Monday, #1 == Tuesday, #2 == Wednesday,  #3 == Thursday,  #4 == Friday,  #5 == Saturday, #6 == Sunday\n",
        "from datetime import datetime\n",
        "from datetime import timedelta\n",
        "\n",
        "for index, row in df_train.iterrows():\n",
        "    dd=datetime.strptime(row['Date'], \"%Y/%m/%d\")\n",
        "    hh = int(row['Hour_slot'])\n",
        "    if hh < 8:\n",
        "      dd = dd - timedelta(days=1)\n",
        "    thedaystr =  dd.strftime(\"%Y-%m-%d\")\n",
        "    if thedaystr in holidays:\n",
        "        isworkday[index] = 0\n",
        "    else:\n",
        "        weekday[index]= dd.weekday() \n",
        "        if weekday[index] >=5 and thedaystr not in makeupworkdays:\n",
        "            isworkday[index] = 0\n",
        "    if thedaystr in malfunctiondays:\n",
        "      malday[index] = 1"
      ],
      "execution_count": 0,
      "outputs": []
    },
    {
      "cell_type": "code",
      "metadata": {
        "id": "VmNklKRxQoRJ",
        "colab_type": "code",
        "colab": {}
      },
      "source": [
        "#Build a new dataframe from the training data\n",
        "RawX = pd.DataFrame(df_train[[\"Zone_ID\", \"Date\", \"Hour_slot\"]])\n",
        "RawX['isworkday'] = isworkday\n",
        "RawX['weekday'] = weekday\n",
        "RawX['malday'] = malday\n",
        "RawX.shape"
      ],
      "execution_count": 0,
      "outputs": []
    },
    {
      "cell_type": "code",
      "metadata": {
        "id": "oVtLwwRhTtPx",
        "colab_type": "code",
        "colab": {}
      },
      "source": [
        "#Resize y into (0,1)\n",
        "y0 = df_train[\"Hire_count\"].values\n",
        "y = df_train[\"Hire_count\"].values/339.0\n",
        "y.shape"
      ],
      "execution_count": 0,
      "outputs": []
    },
    {
      "cell_type": "code",
      "metadata": {
        "id": "C4o_Ie2WZbkS",
        "colab_type": "code",
        "colab": {}
      },
      "source": [
        "plt.plot(y0)"
      ],
      "execution_count": 0,
      "outputs": []
    },
    {
      "cell_type": "code",
      "metadata": {
        "id": "ze_oXbOUSJj6",
        "colab_type": "code",
        "colab": {}
      },
      "source": [
        "y0= y0[RawX['malday']==0]\n",
        "y = y[RawX['malday']==0]\n",
        "y.shape"
      ],
      "execution_count": 0,
      "outputs": []
    },
    {
      "cell_type": "code",
      "metadata": {
        "id": "3CqpxSa9SE-C",
        "colab_type": "code",
        "colab": {}
      },
      "source": [
        "RawX = RawX[RawX['malday']==0]\n",
        "RawX.shape"
      ],
      "execution_count": 0,
      "outputs": []
    },
    {
      "cell_type": "code",
      "metadata": {
        "id": "U4X5VjevSq_A",
        "colab_type": "code",
        "colab": {}
      },
      "source": [
        "RawX=RawX.drop(columns=['malday'])\n",
        "RawX.shape"
      ],
      "execution_count": 0,
      "outputs": []
    },
    {
      "cell_type": "code",
      "metadata": {
        "id": "Cjjb-JDEVcLW",
        "colab_type": "code",
        "colab": {}
      },
      "source": [
        "RawOrg = pd.DataFrame(RawX)\n",
        "RawOrg.shape"
      ],
      "execution_count": 0,
      "outputs": []
    },
    {
      "cell_type": "code",
      "metadata": {
        "id": "nIwsF-u-QoRN",
        "colab_type": "code",
        "colab": {}
      },
      "source": [
        "#See the raw input data\n",
        "RawX.head()"
      ],
      "execution_count": 0,
      "outputs": []
    },
    {
      "cell_type": "code",
      "metadata": {
        "id": "z0u7NczL2EXp",
        "colab_type": "code",
        "colab": {}
      },
      "source": [
        "RawX2 = pd.DataFrame(RawX)"
      ],
      "execution_count": 0,
      "outputs": []
    },
    {
      "cell_type": "code",
      "metadata": {
        "id": "zbTpRlGx2MnT",
        "colab_type": "code",
        "colab": {}
      },
      "source": [
        "RawX=RawX.drop(columns=['Date'])"
      ],
      "execution_count": 0,
      "outputs": []
    },
    {
      "cell_type": "code",
      "metadata": {
        "id": "JOaqeICHQoRQ",
        "colab_type": "code",
        "colab": {}
      },
      "source": [
        "#Use OneHotEncoder\n",
        "from sklearn.preprocessing import OneHotEncoder\n",
        "enc = OneHotEncoder(handle_unknown='ignore')"
      ],
      "execution_count": 0,
      "outputs": []
    },
    {
      "cell_type": "code",
      "metadata": {
        "id": "uE0r-Tx3QoRT",
        "colab_type": "code",
        "colab": {}
      },
      "source": [
        "#Build encoder\n",
        "enc.fit_transform(RawX)\n",
        "enc.categories_"
      ],
      "execution_count": 0,
      "outputs": []
    },
    {
      "cell_type": "code",
      "metadata": {
        "id": "GkERcm2aQoRV",
        "colab_type": "code",
        "colab": {}
      },
      "source": [
        "#Transform data into one hot vector\n",
        "X = enc.transform(RawX).toarray()\n",
        "X.shape"
      ],
      "execution_count": 0,
      "outputs": []
    },
    {
      "cell_type": "code",
      "metadata": {
        "id": "Q9Rho6CwQoRX",
        "colab_type": "code",
        "colab": {}
      },
      "source": [
        "#See the cooked input data\n",
        "X[0:3, :]"
      ],
      "execution_count": 0,
      "outputs": []
    },
    {
      "cell_type": "code",
      "metadata": {
        "id": "U-_6SiHHQoRe",
        "colab_type": "code",
        "colab": {}
      },
      "source": [
        "import tensorflow as tf\n",
        "from tensorflow import keras\n",
        "from tensorflow.keras.models import Sequential\n",
        "from tensorflow.keras.layers import Input, Dense, Activation, Dropout"
      ],
      "execution_count": 0,
      "outputs": []
    },
    {
      "cell_type": "code",
      "metadata": {
        "id": "HBoHjszYLk7H",
        "colab_type": "code",
        "colab": {}
      },
      "source": [
        "# create and fit a Baseline Neural Network Model\n",
        "model = Sequential()\n",
        "model.add(Dense(512, activation='relu', input_dim=42))\n",
        "model.add(Dropout(0.3))\n",
        "model.add(Dense(256, activation='relu'))\n",
        "model.add(Dropout(0.3))\n",
        "model.add(Dense(1))"
      ],
      "execution_count": 0,
      "outputs": []
    },
    {
      "cell_type": "code",
      "metadata": {
        "id": "483ouWdFLwJ_",
        "colab_type": "code",
        "colab": {}
      },
      "source": [
        "#myoptimizer = keras.optimizers.RMSprop(lr=0.001, rho=0.9, epsilon=1e-06)\n",
        "myoptimizer = keras.optimizers.Adam(lr=0.001, beta_1=0.9, beta_2=0.999, epsilon=1e-08, decay=0.0001)\n",
        "model.compile(loss='mse', optimizer=myoptimizer)\n",
        "model.fit(X, y, epochs=100, batch_size=1024, verbose=1)"
      ],
      "execution_count": 0,
      "outputs": []
    },
    {
      "cell_type": "code",
      "metadata": {
        "id": "E_Ojxg5sMGLi",
        "colab_type": "code",
        "colab": {}
      },
      "source": [
        "yhat = model.predict(X)*339.0"
      ],
      "execution_count": 0,
      "outputs": []
    },
    {
      "cell_type": "code",
      "metadata": {
        "id": "jpDcgPkEY31b",
        "colab_type": "code",
        "colab": {}
      },
      "source": [
        "plt.plot(yhat)"
      ],
      "execution_count": 0,
      "outputs": []
    },
    {
      "cell_type": "code",
      "metadata": {
        "id": "crzbSjPlMKi5",
        "colab_type": "code",
        "colab": {}
      },
      "source": [
        "CookX = pd.DataFrame(RawOrg)\n",
        "CookX['y0'] = y0\n",
        "CookX['yhat'] = yhat\n",
        "CookX = CookX[abs(CookX['y0']-CookX['yhat']) <50]\n",
        "CookX.shape"
      ],
      "execution_count": 0,
      "outputs": []
    },
    {
      "cell_type": "code",
      "metadata": {
        "id": "LvFpRCGmODGt",
        "colab_type": "code",
        "colab": {}
      },
      "source": [
        "CookX.shape"
      ],
      "execution_count": 0,
      "outputs": []
    },
    {
      "cell_type": "code",
      "metadata": {
        "id": "VnRxiKnQONoe",
        "colab_type": "code",
        "colab": {}
      },
      "source": [
        "RawX2 = pd.DataFrame(CookX)\n",
        "RawX=CookX.drop(columns=['y0','yhat','Date'])\n",
        "RawX.shape"
      ],
      "execution_count": 0,
      "outputs": []
    },
    {
      "cell_type": "code",
      "metadata": {
        "id": "oZPTIwOxO0eo",
        "colab_type": "code",
        "colab": {}
      },
      "source": [
        "X2 = enc.transform(RawX).toarray()\n",
        "X2.shape"
      ],
      "execution_count": 0,
      "outputs": []
    },
    {
      "cell_type": "code",
      "metadata": {
        "id": "6rJm7If4O-k5",
        "colab_type": "code",
        "colab": {}
      },
      "source": [
        "y2 = RawX2[\"y0\"].values/339.0\n",
        "y2.shape"
      ],
      "execution_count": 0,
      "outputs": []
    },
    {
      "cell_type": "code",
      "metadata": {
        "id": "RzM5HVmFYgQe",
        "colab_type": "code",
        "colab": {}
      },
      "source": [
        "plt.plot(y)"
      ],
      "execution_count": 0,
      "outputs": []
    },
    {
      "cell_type": "code",
      "metadata": {
        "id": "RE1U1l2aQoRg",
        "colab_type": "code",
        "colab": {}
      },
      "source": [
        "# create and fit a Baseline Neural Network Model\n",
        "model = Sequential()\n",
        "model.add(Dense(512, activation='relu', input_dim=42))\n",
        "model.add(Dropout(0.3))\n",
        "model.add(Dense(1024, activation='relu'))\n",
        "model.add(Dropout(0.3))\n",
        "model.add(Dense(units=512, activation='relu'))\n",
        "model.add(Dropout(0.1))\n",
        "model.add(Dense(1))"
      ],
      "execution_count": 0,
      "outputs": []
    },
    {
      "cell_type": "code",
      "metadata": {
        "id": "jqzNtS1FQoRj",
        "colab_type": "code",
        "colab": {}
      },
      "source": [
        "#myoptimizer = keras.optimizers.RMSprop(lr=0.001, rho=0.9, epsilon=1e-06)\n",
        "myoptimizer = keras.optimizers.Adam(lr=0.001, beta_1=0.9, beta_2=0.999, epsilon=1e-08, decay=0.0001)\n",
        "model.compile(loss='mse', optimizer=myoptimizer)\n",
        "model.fit(X2, y2, epochs=100, batch_size=1024, verbose=1)"
      ],
      "execution_count": 0,
      "outputs": []
    },
    {
      "cell_type": "code",
      "metadata": {
        "id": "TGjHB7UoSzwx",
        "colab_type": "code",
        "colab": {}
      },
      "source": [
        "yhat = model.predict(X2)*339.0"
      ],
      "execution_count": 0,
      "outputs": []
    },
    {
      "cell_type": "markdown",
      "metadata": {
        "id": "25XhmCT4bgO4",
        "colab_type": "text"
      },
      "source": [
        ""
      ]
    },
    {
      "cell_type": "code",
      "metadata": {
        "id": "wkyLhC3STrhT",
        "colab_type": "code",
        "colab": {}
      },
      "source": [
        "for i in range(len(yhat)):\n",
        "  if yhat[i] < 0.0:\n",
        "    yhat[i] = 0.0"
      ],
      "execution_count": 0,
      "outputs": []
    },
    {
      "cell_type": "code",
      "metadata": {
        "id": "Pl0hOLsfS_UA",
        "colab_type": "code",
        "colab": {}
      },
      "source": [
        "dfhat = pd.DataFrame(yhat)\n",
        "dfhat.to_csv('prediction5.csv')"
      ],
      "execution_count": 0,
      "outputs": []
    },
    {
      "cell_type": "code",
      "metadata": {
        "id": "S9NJDf4GwcGh",
        "colab_type": "code",
        "colab": {}
      },
      "source": [
        "RawX2[\"count\"]=y2*339.0\n",
        "RawX2[\"prediction\"]=yhat"
      ],
      "execution_count": 0,
      "outputs": []
    },
    {
      "cell_type": "code",
      "metadata": {
        "id": "vWo4MsMhxEUo",
        "colab_type": "code",
        "colab": {}
      },
      "source": [
        ""
      ],
      "execution_count": 0,
      "outputs": []
    },
    {
      "cell_type": "code",
      "metadata": {
        "id": "IbB4ew7bwjTb",
        "colab_type": "code",
        "colab": {}
      },
      "source": [
        "RawX2.to_csv('TrainModel1113B.csv')"
      ],
      "execution_count": 0,
      "outputs": []
    },
    {
      "cell_type": "code",
      "metadata": {
        "id": "I5weHplpuwax",
        "colab_type": "code",
        "colab": {}
      },
      "source": [
        "model.save('model_htchu_20191113D.h5')"
      ],
      "execution_count": 0,
      "outputs": []
    },
    {
      "cell_type": "code",
      "metadata": {
        "id": "9B_sL2r0QoRl",
        "colab_type": "code",
        "colab": {}
      },
      "source": [
        "df_test = pd.read_csv('test_hire_stats.csv')\n",
        "df_test.shape"
      ],
      "execution_count": 0,
      "outputs": []
    },
    {
      "cell_type": "code",
      "metadata": {
        "id": "o4x_7U61QoRn",
        "colab_type": "code",
        "colab": {}
      },
      "source": [
        "#Declare weekday & workday\n",
        "isworkday2 = np.ones((len(df_test),), dtype=int)\n",
        "weekday2 = np.ones((len(df_test),), dtype=int)"
      ],
      "execution_count": 0,
      "outputs": []
    },
    {
      "cell_type": "code",
      "metadata": {
        "id": "EChQZHaQLCMj",
        "colab_type": "code",
        "colab": {}
      },
      "source": [
        "for index, row in df_test.iterrows():\n",
        "    dd=datetime.strptime(row['Date'], \"%Y/%m/%d\")\n",
        "    hh = int(row['Hour_slot'])\n",
        "    if hh < 8:\n",
        "      dd = dd - timedelta(days=1)\n",
        "    thedaystr =  dd.strftime(\"%Y-%m-%d\")\n",
        "    if thedaystr in holidays:\n",
        "        isworkday2[index] = 0\n",
        "    else:\n",
        "        weekday2[index]= dd.weekday() \n",
        "        if weekday2[index] >=5 and thedaystr not in makeupworkdays:\n",
        "            isworkday2[index] = 0"
      ],
      "execution_count": 0,
      "outputs": []
    },
    {
      "cell_type": "code",
      "metadata": {
        "id": "VKR7y18xQoRw",
        "colab_type": "code",
        "colab": {}
      },
      "source": [
        "Test = pd.DataFrame(df_test[[\"Zone_ID\", \"Hour_slot\"]])\n",
        "Test['isworkday'] = isworkday2\n",
        "Test['weekday'] = weekday2"
      ],
      "execution_count": 0,
      "outputs": []
    },
    {
      "cell_type": "code",
      "metadata": {
        "id": "0WV4nV-oQoR1",
        "colab_type": "code",
        "colab": {}
      },
      "source": [
        "Xtest = enc.transform(Test).toarray()\n",
        "Xtest.shape"
      ],
      "execution_count": 0,
      "outputs": []
    },
    {
      "cell_type": "code",
      "metadata": {
        "id": "wk2rGghsQoR6",
        "colab_type": "code",
        "colab": {}
      },
      "source": [
        "yt = model.predict(Xtest)*339.0"
      ],
      "execution_count": 0,
      "outputs": []
    },
    {
      "cell_type": "code",
      "metadata": {
        "id": "Q77RYS-lMBRR",
        "colab_type": "code",
        "colab": {}
      },
      "source": [
        "for i in range(len(yt)):\n",
        "  if yt[i] < 0.0:\n",
        "    yt[i] = 0.0"
      ],
      "execution_count": 0,
      "outputs": []
    },
    {
      "cell_type": "code",
      "metadata": {
        "id": "uTNqB29VQoR9",
        "colab_type": "code",
        "colab": {}
      },
      "source": [
        "plt.plot(yt)"
      ],
      "execution_count": 0,
      "outputs": []
    },
    {
      "cell_type": "code",
      "metadata": {
        "id": "amgqICdqQoSA",
        "colab_type": "code",
        "colab": {}
      },
      "source": [
        "dfOut = pd.DataFrame(yt)"
      ],
      "execution_count": 0,
      "outputs": []
    },
    {
      "cell_type": "code",
      "metadata": {
        "id": "aanbg-qzQoSC",
        "colab_type": "code",
        "colab": {}
      },
      "source": [
        "dfOut.to_csv('Result7.csv')"
      ],
      "execution_count": 0,
      "outputs": []
    },
    {
      "cell_type": "code",
      "metadata": {
        "id": "T5ir3I5bQoSF",
        "colab_type": "code",
        "colab": {}
      },
      "source": [
        ""
      ],
      "execution_count": 0,
      "outputs": []
    }
  ]
}